{
 "cells": [
  {
   "cell_type": "markdown",
   "metadata": {},
   "source": [
    "# Topless AlexNet \n",
    "The classic AlexNet that won the 2012 ImageNet competition canonically has 5 convolutional plus 3 fully connected layers. However, the fully connected layers (or tops) on many classic conv-nets may actually be more of a fashionable legacy and we can often get away with average pooling instead of used a dense layer(s) on top.  \n",
    "\n",
    "https://papers.nips.cc/paper/4824-imagenet-classification-with-deep-convolutional-neural-networks\n",
    "https://karpathy.github.io/2019/04/25/recipe/ - Karpathy mentions the topless trend in conv-nets under the regularization tips section"
   ]
  },
  {
   "cell_type": "code",
   "execution_count": 2,
   "metadata": {
    "_cell_guid": "b1076dfc-b9ad-4769-8c92-a6c4dae69d19",
    "_uuid": "8f2839f25d086af736a60e9eeb907d3b93b6e0e5"
   },
   "outputs": [],
   "source": [
    "\n",
    "import numpy as np # linear algebra\n",
    "import pandas as pd # data processing, CSV file I/O (e.g. pd.read_csv)\n",
    "import os\n",
    "\n",
    "import tensorflow as tf\n",
    "from tensorflow.keras.layers import Activation, Dropout, Flatten, Dense, SpatialDropout2D, Conv2D, MaxPooling2D, AveragePooling1D, Reshape\n",
    "from tensorflow.keras.optimizers import Adam\n",
    "from tensorflow.keras.preprocessing.image import ImageDataGenerator\n",
    "from tensorflow.keras.models import Sequential\n",
    "from tensorflow.keras.callbacks import EarlyStopping, LearningRateScheduler\n",
    "\n",
    "import matplotlib.pyplot as plt"
   ]
  },
  {
   "cell_type": "code",
   "execution_count": 6,
   "metadata": {},
   "outputs": [
    {
     "data": {
      "text/plain": [
       "((8192, 32, 32, 1), (8192, 1), 1)"
      ]
     },
     "execution_count": 6,
     "metadata": {},
     "output_type": "execute_result"
    }
   ],
   "source": [
    "x_train = np.load('./data/train_x.npy')\n",
    "y_train = np.load('./data/train_y.npy')\n",
    "x_train.shape, y_train.shape, np.max(x_train)"
   ]
  },
  {
   "cell_type": "code",
   "execution_count": 13,
   "metadata": {},
   "outputs": [
    {
     "name": "stdout",
     "output_type": "stream",
     "text": [
      "data shapes (7373, 32, 32, 1) (7373, 1) classes:  10\n",
      "[0 1 2 3 4 5 6 7 8 9]\n"
     ]
    },
    {
     "data": {
      "text/plain": [
       "(7373, 10)"
      ]
     },
     "execution_count": 13,
     "metadata": {},
     "output_type": "execute_result"
    }
   ],
   "source": [
    "# set up training data and labels\n",
    "dim_x = 32\n",
    "dim_y = 32\n",
    "batch_size=32\n",
    "\n",
    "# read in data/labels\n",
    "print(\"data shapes\", x_train.shape, y_train.shape, \"classes: \",len(np.unique(y_train)))\n",
    "\n",
    "classes = len(np.unique(y_train))\n",
    "x_train = x_train.reshape((-1, dim_x,dim_y,1))\n",
    "# convert labels to one-hot\n",
    "print(np.unique(y_train))\n",
    "y = np.zeros((np.shape(y_train)[0],len(np.unique(y_train))))\n",
    "\n",
    "# convert index labels to one-hot\n",
    "for ii in range(len(y_train)):\n",
    "    #print(y_train[ii])\n",
    "    y[ii,y_train[ii]] = 1\n",
    "y_train = y\n",
    "y_train.shape"
   ]
  },
  {
   "cell_type": "code",
   "execution_count": 14,
   "metadata": {},
   "outputs": [
    {
     "name": "stdout",
     "output_type": "stream",
     "text": [
      "(6636, 32, 32, 1) (6636, 10) (737, 32, 32, 1) (737, 10)\n"
     ]
    }
   ],
   "source": [
    "# split into training/validation\n",
    "no_validation = int(0.1 * (x_train.shape[0]))\n",
    "\n",
    "x_val = x_train[0:no_validation,...]\n",
    "y_val = y_train[0:no_validation,...]\n",
    "\n",
    "x_train = x_train[no_validation:,...]\n",
    "y_train = y_train[no_validation:,...]\n",
    "\n",
    "print(x_train.shape, y_train.shape, x_val.shape, y_val.shape)\n",
    "\n",
    "# define image generators with mild augmentation\n",
    "train_datagen = ImageDataGenerator()\n",
    "\n",
    "train_generator = train_datagen.flow(x=x_train,\\\n",
    "                                     y=y_train,\\\n",
    "                                     batch_size=batch_size,\\\n",
    "                                     shuffle=True)\n",
    "\n",
    "test_datagen = ImageDataGenerator()\n",
    "\n",
    "val_generator = test_datagen.flow(x=x_val,\\\n",
    "                                    y=y_val,\\\n",
    "                                    batch_size=batch_size,\\\n",
    "                                    shuffle=True)"
   ]
  },
  {
   "cell_type": "code",
   "execution_count": 20,
   "metadata": {},
   "outputs": [
    {
     "name": "stdout",
     "output_type": "stream",
     "text": [
      "_________________________________________________________________\n",
      "Layer (type)                 Output Shape              Param #   \n",
      "=================================================================\n",
      "conv2d_25 (Conv2D)           (None, 28, 28, 96)        2496      \n",
      "_________________________________________________________________\n",
      "max_pooling2d_10 (MaxPooling (None, 14, 14, 96)        0         \n",
      "_________________________________________________________________\n",
      "conv2d_26 (Conv2D)           (None, 10, 10, 256)       614656    \n",
      "_________________________________________________________________\n",
      "conv2d_27 (Conv2D)           (None, 8, 8, 384)         885120    \n",
      "_________________________________________________________________\n",
      "conv2d_28 (Conv2D)           (None, 6, 6, 384)         1327488   \n",
      "_________________________________________________________________\n",
      "spatial_dropout2d_5 (Spatial (None, 6, 6, 384)         0         \n",
      "_________________________________________________________________\n",
      "conv2d_29 (Conv2D)           (None, 4, 4, 250)         864250    \n",
      "_________________________________________________________________\n",
      "max_pooling2d_11 (MaxPooling (None, 2, 2, 250)         0         \n",
      "_________________________________________________________________\n",
      "flatten_5 (Flatten)          (None, 1000)              0         \n",
      "_________________________________________________________________\n",
      "reshape_10 (Reshape)         (None, 1000, 1)           0         \n",
      "_________________________________________________________________\n",
      "average_pooling1d_5 (Average (None, 10, 1)             0         \n",
      "_________________________________________________________________\n",
      "reshape_11 (Reshape)         (None, 10)                0         \n",
      "_________________________________________________________________\n",
      "activation_5 (Activation)    (None, 10)                0         \n",
      "=================================================================\n",
      "Total params: 3,694,010\n",
      "Trainable params: 3,694,010\n",
      "Non-trainable params: 0\n",
      "_________________________________________________________________\n"
     ]
    }
   ],
   "source": [
    "# define model AlexNet (but topless)\n",
    "model = Sequential()\n",
    "\n",
    "model.add(Conv2D(filters=96, kernel_size=(5,5), strides=1,input_shape=(dim_x, dim_y, 1), activation=tf.nn.relu))\n",
    "model.add(MaxPooling2D(pool_size=2, strides=2))\n",
    "model.add(Conv2D(filters=256, kernel_size=(5,5), strides=1, activation=tf.nn.relu))\n",
    "#model.add(MaxPooling2D(pool_size=2, strides=2))\n",
    "model.add(Conv2D(filters=384, kernel_size=(3,3), strides=1, activation=tf.nn.relu))\n",
    "model.add(Conv2D(filters=384, kernel_size=(3,3), strides=1, activation=tf.nn.relu))\n",
    "model.add(SpatialDropout2D(rate=0.67))\n",
    "model.add(Conv2D(filters=250, kernel_size=(3,3), strides=1, activation=tf.nn.relu))\n",
    "model.add(MaxPooling2D(pool_size=2, strides=2))\n",
    "model.add(Flatten())\n",
    "model.add(Reshape((1000,1)))\n",
    "model.add(AveragePooling1D(pool_size=100,strides=100))\n",
    "model.add(Reshape(([10])))\n",
    "model.add(Activation(tf.nn.softmax))\n",
    "\n",
    "model.summary()\n",
    "\n",
    "model.compile(loss='categorical_crossentropy', optimizer=Adam(lr=1e-4), metrics=['accuracy'])"
   ]
  },
  {
   "cell_type": "code",
   "execution_count": 21,
   "metadata": {},
   "outputs": [],
   "source": [
    "def learning_schedule(epoch):\n",
    "    if epoch <= 5:\n",
    "        lr = 3e-4\n",
    "    elif epoch <= 10:\n",
    "        lr =1e-4\n",
    "    elif epoch <= 50:\n",
    "        lr = 1e-5\n",
    "    elif epoch <= 150:\n",
    "        lr = 1e-6\n",
    "    else:\n",
    "        lr = 1e-8\n",
    "    return lr\n",
    "\n",
    "# callbacks\n",
    "lrate = LearningRateScheduler(learning_schedule)\n",
    "early = EarlyStopping(monitor='val_acc', min_delta=0, patience=600, verbose=1, mode='auto')"
   ]
  },
  {
   "cell_type": "code",
   "execution_count": 23,
   "metadata": {},
   "outputs": [
    {
     "name": "stdout",
     "output_type": "stream",
     "text": [
      "Epoch 1/2048\n",
      "24/24 [==============================] - 6s 234ms/step - loss: 1.7692 - acc: 0.3134\n",
      "208/208 [==============================] - 172s 828ms/step - loss: 1.9198 - acc: 0.2364 - val_loss: 1.7692 - val_acc: 0.3134\n",
      "Epoch 2/2048\n",
      "24/24 [==============================] - 4s 160ms/step - loss: 1.6856 - acc: 0.3066\n",
      "208/208 [==============================] - 166s 796ms/step - loss: 1.6953 - acc: 0.3036 - val_loss: 1.6856 - val_acc: 0.3066\n",
      "Epoch 3/2048\n",
      "24/24 [==============================] - 4s 161ms/step - loss: 1.6879 - acc: 0.3189\n",
      "208/208 [==============================] - 156s 751ms/step - loss: 1.6211 - acc: 0.3214 - val_loss: 1.6879 - val_acc: 0.3189\n",
      "Epoch 4/2048\n",
      "24/24 [==============================] - 4s 171ms/step - loss: 1.6360 - acc: 0.3297\n",
      "208/208 [==============================] - 158s 757ms/step - loss: 1.5655 - acc: 0.3434 - val_loss: 1.6360 - val_acc: 0.3297\n",
      "Epoch 5/2048\n",
      "24/24 [==============================] - 4s 157ms/step - loss: 1.5383 - acc: 0.3446\n",
      "208/208 [==============================] - 148s 709ms/step - loss: 1.5028 - acc: 0.3737 - val_loss: 1.5383 - val_acc: 0.3446\n",
      "Epoch 6/2048\n",
      "24/24 [==============================] - 4s 164ms/step - loss: 1.5188 - acc: 0.3284\n",
      "208/208 [==============================] - 150s 719ms/step - loss: 1.4529 - acc: 0.3996 - val_loss: 1.5188 - val_acc: 0.3284\n",
      "Epoch 7/2048\n",
      "24/24 [==============================] - 4s 173ms/step - loss: 1.5050 - acc: 0.3392\n",
      "208/208 [==============================] - 164s 790ms/step - loss: 1.3504 - acc: 0.4376 - val_loss: 1.5050 - val_acc: 0.3392\n",
      "Epoch 8/2048\n",
      "24/24 [==============================] - 5s 204ms/step - loss: 1.4682 - acc: 0.3338\n",
      "208/208 [==============================] - 160s 770ms/step - loss: 1.3080 - acc: 0.4506 - val_loss: 1.4682 - val_acc: 0.3338\n",
      "Epoch 9/2048\n",
      "24/24 [==============================] - 5s 211ms/step - loss: 1.5193 - acc: 0.3460\n",
      "208/208 [==============================] - 165s 796ms/step - loss: 1.2774 - acc: 0.4658 - val_loss: 1.5193 - val_acc: 0.3460\n",
      "Epoch 10/2048\n",
      "24/24 [==============================] - 4s 159ms/step - loss: 1.4501 - acc: 0.3392\n",
      "208/208 [==============================] - 151s 727ms/step - loss: 1.2551 - acc: 0.4860 - val_loss: 1.4501 - val_acc: 0.3392\n",
      "Epoch 11/2048\n",
      "24/24 [==============================] - 5s 193ms/step - loss: 1.5548 - acc: 0.3569\n",
      "208/208 [==============================] - 155s 743ms/step - loss: 1.2206 - acc: 0.5075 - val_loss: 1.5548 - val_acc: 0.3569\n",
      "Epoch 12/2048\n",
      "24/24 [==============================] - 4s 185ms/step - loss: 1.4064 - acc: 0.3677\n",
      "208/208 [==============================] - 144s 692ms/step - loss: 1.1598 - acc: 0.5321 - val_loss: 1.4064 - val_acc: 0.3677\n",
      "Epoch 13/2048\n",
      "24/24 [==============================] - 4s 154ms/step - loss: 1.4125 - acc: 0.3609\n",
      "208/208 [==============================] - 158s 758ms/step - loss: 1.1449 - acc: 0.5449 - val_loss: 1.4125 - val_acc: 0.3609\n",
      "Epoch 14/2048\n",
      "24/24 [==============================] - 5s 217ms/step - loss: 1.4098 - acc: 0.3664\n",
      "208/208 [==============================] - 153s 737ms/step - loss: 1.1426 - acc: 0.5419 - val_loss: 1.4098 - val_acc: 0.3664\n",
      "Epoch 15/2048\n",
      "24/24 [==============================] - 6s 248ms/step - loss: 1.4034 - acc: 0.3636\n",
      "208/208 [==============================] - 159s 764ms/step - loss: 1.1351 - acc: 0.5479 - val_loss: 1.4034 - val_acc: 0.3636\n",
      "Epoch 16/2048\n",
      "24/24 [==============================] - 6s 240ms/step - loss: 1.4081 - acc: 0.3541\n",
      "208/208 [==============================] - 198s 950ms/step - loss: 1.1246 - acc: 0.5505 - val_loss: 1.4081 - val_acc: 0.3541\n",
      "Epoch 17/2048\n",
      "24/24 [==============================] - 6s 251ms/step - loss: 1.4115 - acc: 0.3731\n",
      "208/208 [==============================] - 198s 953ms/step - loss: 1.1206 - acc: 0.5564 - val_loss: 1.4115 - val_acc: 0.3731\n",
      "Epoch 18/2048\n",
      "24/24 [==============================] - 6s 256ms/step - loss: 1.4154 - acc: 0.3636\n",
      "208/208 [==============================] - 191s 920ms/step - loss: 1.1101 - acc: 0.5564 - val_loss: 1.4154 - val_acc: 0.3636\n",
      "Epoch 19/2048\n",
      "24/24 [==============================] - 5s 218ms/step - loss: 1.4516 - acc: 0.3636\n",
      "208/208 [==============================] - 202s 973ms/step - loss: 1.1068 - acc: 0.5549 - val_loss: 1.4516 - val_acc: 0.3636\n",
      "Epoch 20/2048\n",
      "24/24 [==============================] - 7s 272ms/step - loss: 1.4193 - acc: 0.3677\n",
      "208/208 [==============================] - 236s 1s/step - loss: 1.1040 - acc: 0.5637 - val_loss: 1.4193 - val_acc: 0.3677\n",
      "Epoch 21/2048\n",
      "24/24 [==============================] - 5s 200ms/step - loss: 1.4612 - acc: 0.3623\n",
      "208/208 [==============================] - 201s 965ms/step - loss: 1.0974 - acc: 0.5675 - val_loss: 1.4612 - val_acc: 0.3623\n",
      "Epoch 22/2048\n",
      "24/24 [==============================] - 4s 186ms/step - loss: 1.4698 - acc: 0.3636\n",
      "208/208 [==============================] - 179s 859ms/step - loss: 1.0968 - acc: 0.5668 - val_loss: 1.4698 - val_acc: 0.3636\n",
      "Epoch 23/2048\n",
      "24/24 [==============================] - 6s 235ms/step - loss: 1.4587 - acc: 0.3677\n",
      "208/208 [==============================] - 195s 939ms/step - loss: 1.0836 - acc: 0.5743 - val_loss: 1.4587 - val_acc: 0.3677\n",
      "Epoch 24/2048\n",
      "24/24 [==============================] - 5s 204ms/step - loss: 1.4702 - acc: 0.3609\n",
      "208/208 [==============================] - 183s 882ms/step - loss: 1.0794 - acc: 0.5752 - val_loss: 1.4702 - val_acc: 0.3609\n",
      "Epoch 25/2048\n",
      "24/24 [==============================] - 5s 220ms/step - loss: 1.4739 - acc: 0.3609\n",
      "208/208 [==============================] - 193s 929ms/step - loss: 1.0772 - acc: 0.5744 - val_loss: 1.4739 - val_acc: 0.3609\n",
      "Epoch 26/2048\n",
      "24/24 [==============================] - 6s 240ms/step - loss: 1.4672 - acc: 0.3718\n",
      "208/208 [==============================] - 184s 884ms/step - loss: 1.0757 - acc: 0.5769 - val_loss: 1.4672 - val_acc: 0.3718\n",
      "Epoch 27/2048\n",
      "24/24 [==============================] - 6s 233ms/step - loss: 1.4718 - acc: 0.3650\n",
      "208/208 [==============================] - 200s 959ms/step - loss: 1.0658 - acc: 0.5794 - val_loss: 1.4718 - val_acc: 0.3650\n",
      "Epoch 28/2048\n",
      "24/24 [==============================] - 5s 197ms/step - loss: 1.4786 - acc: 0.3596\n",
      "208/208 [==============================] - 198s 952ms/step - loss: 1.0558 - acc: 0.5817 - val_loss: 1.4786 - val_acc: 0.3596\n",
      "Epoch 29/2048\n",
      "169/208 [=======================>......] - ETA: 42s - loss: 1.0569 - acc: 0.5852"
     ]
    },
    {
     "ename": "KeyboardInterrupt",
     "evalue": "",
     "output_type": "error",
     "traceback": [
      "\u001b[0;31m---------------------------------------------------------------------------\u001b[0m",
      "\u001b[0;31mKeyboardInterrupt\u001b[0m                         Traceback (most recent call last)",
      "\u001b[0;32m<ipython-input-23-5e6f689c7c89>\u001b[0m in \u001b[0;36m<module>\u001b[0;34m\u001b[0m\n\u001b[1;32m      9\u001b[0m                                 \u001b[0mepochs\u001b[0m\u001b[0;34m=\u001b[0m\u001b[0mmax_epochs\u001b[0m\u001b[0;34m,\u001b[0m\u001b[0;31m\\\u001b[0m\u001b[0;34m\u001b[0m\u001b[0;34m\u001b[0m\u001b[0m\n\u001b[1;32m     10\u001b[0m                                 \u001b[0mcallbacks\u001b[0m\u001b[0;34m=\u001b[0m\u001b[0;34m[\u001b[0m\u001b[0mearly\u001b[0m\u001b[0;34m,\u001b[0m \u001b[0mlrate\u001b[0m\u001b[0;34m]\u001b[0m\u001b[0;34m,\u001b[0m\u001b[0;31m\\\u001b[0m\u001b[0;34m\u001b[0m\u001b[0;34m\u001b[0m\u001b[0m\n\u001b[0;32m---> 11\u001b[0;31m                                 verbose=1)\n\u001b[0m",
      "\u001b[0;32m~/.v_env/tf1/lib/python3.6/site-packages/tensorflow/python/keras/engine/training.py\u001b[0m in \u001b[0;36mfit_generator\u001b[0;34m(self, generator, steps_per_epoch, epochs, verbose, callbacks, validation_data, validation_steps, class_weight, max_queue_size, workers, use_multiprocessing, shuffle, initial_epoch)\u001b[0m\n\u001b[1;32m   1424\u001b[0m         \u001b[0muse_multiprocessing\u001b[0m\u001b[0;34m=\u001b[0m\u001b[0muse_multiprocessing\u001b[0m\u001b[0;34m,\u001b[0m\u001b[0;34m\u001b[0m\u001b[0;34m\u001b[0m\u001b[0m\n\u001b[1;32m   1425\u001b[0m         \u001b[0mshuffle\u001b[0m\u001b[0;34m=\u001b[0m\u001b[0mshuffle\u001b[0m\u001b[0;34m,\u001b[0m\u001b[0;34m\u001b[0m\u001b[0;34m\u001b[0m\u001b[0m\n\u001b[0;32m-> 1426\u001b[0;31m         initial_epoch=initial_epoch)\n\u001b[0m\u001b[1;32m   1427\u001b[0m \u001b[0;34m\u001b[0m\u001b[0m\n\u001b[1;32m   1428\u001b[0m   def evaluate_generator(self,\n",
      "\u001b[0;32m~/.v_env/tf1/lib/python3.6/site-packages/tensorflow/python/keras/engine/training_generator.py\u001b[0m in \u001b[0;36mmodel_iteration\u001b[0;34m(model, data, steps_per_epoch, epochs, verbose, callbacks, validation_data, validation_steps, class_weight, max_queue_size, workers, use_multiprocessing, shuffle, initial_epoch, mode, batch_size, **kwargs)\u001b[0m\n\u001b[1;32m    189\u001b[0m       \u001b[0mprogbar\u001b[0m\u001b[0;34m.\u001b[0m\u001b[0mon_batch_begin\u001b[0m\u001b[0;34m(\u001b[0m\u001b[0mstep\u001b[0m\u001b[0;34m,\u001b[0m \u001b[0mbatch_logs\u001b[0m\u001b[0;34m)\u001b[0m\u001b[0;34m\u001b[0m\u001b[0;34m\u001b[0m\u001b[0m\n\u001b[1;32m    190\u001b[0m \u001b[0;34m\u001b[0m\u001b[0m\n\u001b[0;32m--> 191\u001b[0;31m       \u001b[0mbatch_outs\u001b[0m \u001b[0;34m=\u001b[0m \u001b[0mbatch_function\u001b[0m\u001b[0;34m(\u001b[0m\u001b[0;34m*\u001b[0m\u001b[0mbatch_data\u001b[0m\u001b[0;34m)\u001b[0m\u001b[0;34m\u001b[0m\u001b[0;34m\u001b[0m\u001b[0m\n\u001b[0m\u001b[1;32m    192\u001b[0m       \u001b[0;32mif\u001b[0m \u001b[0;32mnot\u001b[0m \u001b[0misinstance\u001b[0m\u001b[0;34m(\u001b[0m\u001b[0mbatch_outs\u001b[0m\u001b[0;34m,\u001b[0m \u001b[0mlist\u001b[0m\u001b[0;34m)\u001b[0m\u001b[0;34m:\u001b[0m\u001b[0;34m\u001b[0m\u001b[0;34m\u001b[0m\u001b[0m\n\u001b[1;32m    193\u001b[0m         \u001b[0mbatch_outs\u001b[0m \u001b[0;34m=\u001b[0m \u001b[0;34m[\u001b[0m\u001b[0mbatch_outs\u001b[0m\u001b[0;34m]\u001b[0m\u001b[0;34m\u001b[0m\u001b[0;34m\u001b[0m\u001b[0m\n",
      "\u001b[0;32m~/.v_env/tf1/lib/python3.6/site-packages/tensorflow/python/keras/engine/training.py\u001b[0m in \u001b[0;36mtrain_on_batch\u001b[0;34m(self, x, y, sample_weight, class_weight, reset_metrics)\u001b[0m\n\u001b[1;32m   1189\u001b[0m       \u001b[0;32melse\u001b[0m\u001b[0;34m:\u001b[0m\u001b[0;34m\u001b[0m\u001b[0;34m\u001b[0m\u001b[0m\n\u001b[1;32m   1190\u001b[0m         \u001b[0mself\u001b[0m\u001b[0;34m.\u001b[0m\u001b[0m_make_fit_function\u001b[0m\u001b[0;34m(\u001b[0m\u001b[0;34m)\u001b[0m\u001b[0;34m\u001b[0m\u001b[0;34m\u001b[0m\u001b[0m\n\u001b[0;32m-> 1191\u001b[0;31m         \u001b[0moutputs\u001b[0m \u001b[0;34m=\u001b[0m \u001b[0mself\u001b[0m\u001b[0;34m.\u001b[0m\u001b[0m_fit_function\u001b[0m\u001b[0;34m(\u001b[0m\u001b[0mins\u001b[0m\u001b[0;34m)\u001b[0m  \u001b[0;31m# pylint: disable=not-callable\u001b[0m\u001b[0;34m\u001b[0m\u001b[0;34m\u001b[0m\u001b[0m\n\u001b[0m\u001b[1;32m   1192\u001b[0m \u001b[0;34m\u001b[0m\u001b[0m\n\u001b[1;32m   1193\u001b[0m     \u001b[0;32mif\u001b[0m \u001b[0mreset_metrics\u001b[0m\u001b[0;34m:\u001b[0m\u001b[0;34m\u001b[0m\u001b[0;34m\u001b[0m\u001b[0m\n",
      "\u001b[0;32m~/.v_env/tf1/lib/python3.6/site-packages/tensorflow/python/keras/backend.py\u001b[0m in \u001b[0;36m__call__\u001b[0;34m(self, inputs)\u001b[0m\n\u001b[1;32m   3074\u001b[0m \u001b[0;34m\u001b[0m\u001b[0m\n\u001b[1;32m   3075\u001b[0m     fetched = self._callable_fn(*array_vals,\n\u001b[0;32m-> 3076\u001b[0;31m                                 run_metadata=self.run_metadata)\n\u001b[0m\u001b[1;32m   3077\u001b[0m     \u001b[0mself\u001b[0m\u001b[0;34m.\u001b[0m\u001b[0m_call_fetch_callbacks\u001b[0m\u001b[0;34m(\u001b[0m\u001b[0mfetched\u001b[0m\u001b[0;34m[\u001b[0m\u001b[0;34m-\u001b[0m\u001b[0mlen\u001b[0m\u001b[0;34m(\u001b[0m\u001b[0mself\u001b[0m\u001b[0;34m.\u001b[0m\u001b[0m_fetches\u001b[0m\u001b[0;34m)\u001b[0m\u001b[0;34m:\u001b[0m\u001b[0;34m]\u001b[0m\u001b[0;34m)\u001b[0m\u001b[0;34m\u001b[0m\u001b[0;34m\u001b[0m\u001b[0m\n\u001b[1;32m   3078\u001b[0m     return nest.pack_sequence_as(self._outputs_structure,\n",
      "\u001b[0;32m~/.v_env/tf1/lib/python3.6/site-packages/tensorflow/python/client/session.py\u001b[0m in \u001b[0;36m__call__\u001b[0;34m(self, *args, **kwargs)\u001b[0m\n\u001b[1;32m   1437\u001b[0m           ret = tf_session.TF_SessionRunCallable(\n\u001b[1;32m   1438\u001b[0m               \u001b[0mself\u001b[0m\u001b[0;34m.\u001b[0m\u001b[0m_session\u001b[0m\u001b[0;34m.\u001b[0m\u001b[0m_session\u001b[0m\u001b[0;34m,\u001b[0m \u001b[0mself\u001b[0m\u001b[0;34m.\u001b[0m\u001b[0m_handle\u001b[0m\u001b[0;34m,\u001b[0m \u001b[0margs\u001b[0m\u001b[0;34m,\u001b[0m \u001b[0mstatus\u001b[0m\u001b[0;34m,\u001b[0m\u001b[0;34m\u001b[0m\u001b[0;34m\u001b[0m\u001b[0m\n\u001b[0;32m-> 1439\u001b[0;31m               run_metadata_ptr)\n\u001b[0m\u001b[1;32m   1440\u001b[0m         \u001b[0;32mif\u001b[0m \u001b[0mrun_metadata\u001b[0m\u001b[0;34m:\u001b[0m\u001b[0;34m\u001b[0m\u001b[0;34m\u001b[0m\u001b[0m\n\u001b[1;32m   1441\u001b[0m           \u001b[0mproto_data\u001b[0m \u001b[0;34m=\u001b[0m \u001b[0mtf_session\u001b[0m\u001b[0;34m.\u001b[0m\u001b[0mTF_GetBuffer\u001b[0m\u001b[0;34m(\u001b[0m\u001b[0mrun_metadata_ptr\u001b[0m\u001b[0;34m)\u001b[0m\u001b[0;34m\u001b[0m\u001b[0;34m\u001b[0m\u001b[0m\n",
      "\u001b[0;31mKeyboardInterrupt\u001b[0m: "
     ]
    }
   ],
   "source": [
    "steps_per_epoch = int(len(y_train)/batch_size)\n",
    "max_epochs = 2048\n",
    "\n",
    "\n",
    "history = model.fit_generator(generator=train_generator,\\\n",
    "                                steps_per_epoch=steps_per_epoch,\\\n",
    "                                validation_data=val_generator,\\\n",
    "                                validation_steps=50,\\\n",
    "                                epochs=max_epochs,\\\n",
    "                                callbacks=[early, lrate],\\\n",
    "                                verbose=1)"
   ]
  },
  {
   "cell_type": "code",
   "execution_count": null,
   "metadata": {},
   "outputs": [],
   "source": [
    "plt.figure(figsize=(15,12))\n",
    "plt.subplot(211)\n",
    "plt.plot(history.history['acc'])\n",
    "plt.plot(history.history['val_acc'])\n",
    "plt.title(\"Accuracy and Loss\",fontsize=28)\n",
    "plt.ylabel('accuracy',fontsize=24)\n",
    "plt.legend(['Train','Val'],fontsize=18)\n",
    "\n",
    "plt.subplot(212)\n",
    "plt.plot(history.history['loss'])\n",
    "plt.plot(history.history['val_loss'])\n",
    "plt.xlabel('epoch',fontsize=24)\n",
    "plt.ylabel('loss',fontsize=24)\n",
    "plt.legend(['Train','Val'],fontsize=18)\n",
    "plt.show()"
   ]
  },
  {
   "cell_type": "code",
   "execution_count": null,
   "metadata": {},
   "outputs": [],
   "source": [
    "x_test = pd.read_csv('../input/test.csv')\n",
    "x_test.head()\n",
    "\n",
    "x_test = np.array(x_test.values)\n",
    "x_test = x_test / 255.\n",
    "\n",
    "print(\"data shape\", x_test.shape)\n",
    "\n",
    "x_test = x_test.reshape((-1, dim_x,dim_y,1))\n"
   ]
  },
  {
   "cell_type": "code",
   "execution_count": null,
   "metadata": {},
   "outputs": [],
   "source": [
    "# predict!\n",
    "y_pred = model.predict(x_test)"
   ]
  },
  {
   "cell_type": "code",
   "execution_count": null,
   "metadata": {},
   "outputs": [],
   "source": [
    "# visualize success (?) :/\n",
    "\n",
    "def imshow_w_labels(img,  pred,count):\n",
    "    plt.subplot(1,4,count+1)\n",
    "    plt.imshow(img, cmap=\"gray\")\n",
    "    plt.title(\"Prediction: %i, \"%(pred), fontsize=24)\n",
    "    \n",
    "    \n",
    "count = 0\n",
    "mask = [1,3,3,7]\n",
    "plt.figure(figsize=(24,6))\n",
    "for kk in range(50,600):\n",
    "    \n",
    "    if y_pred[kk,:].argmax() == mask[count]:\n",
    "        imshow_w_labels(x_test[kk,:,:,0],y_pred[kk,...].argmax(), count)\n",
    "        count += 1\n",
    "    if count >= 4: break\n",
    "plt.show()"
   ]
  },
  {
   "cell_type": "code",
   "execution_count": null,
   "metadata": {},
   "outputs": [],
   "source": [
    "\n",
    "# convert one-hot predictions to indices\n",
    "results = np.argmax(y_pred,axis = 1)\n",
    "\n",
    "results = pd.Series(results,name=\"Label\")\n",
    "submission = pd.concat([pd.Series(range(1,28001),name = \"ImageId\"),results],axis = 1)\n",
    "submission.to_csv(\"cnn_mnist_datagen.csv\",index=False)"
   ]
  }
 ],
 "metadata": {
  "kernelspec": {
   "display_name": "tensorflow 1.x",
   "language": "python",
   "name": "tf1"
  },
  "language_info": {
   "codemirror_mode": {
    "name": "ipython",
    "version": 3
   },
   "file_extension": ".py",
   "mimetype": "text/x-python",
   "name": "python",
   "nbconvert_exporter": "python",
   "pygments_lexer": "ipython3",
   "version": "3.6.7"
  }
 },
 "nbformat": 4,
 "nbformat_minor": 1
}
